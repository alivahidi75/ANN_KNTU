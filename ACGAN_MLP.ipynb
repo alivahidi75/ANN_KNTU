{
  "cells": [
    {
      "cell_type": "markdown",
      "metadata": {
        "id": "view-in-github",
        "colab_type": "text"
      },
      "source": [
        "<a href=\"https://colab.research.google.com/github/alivahidi75/ANN_KNTU/blob/main/ACGAN_MLP.ipynb\" target=\"_parent\"><img src=\"https://colab.research.google.com/assets/colab-badge.svg\" alt=\"Open In Colab\"/></a>"
      ]
    },
    {
      "cell_type": "code",
      "execution_count": 1,
      "metadata": {
        "id": "eUpwilqfLzUl"
      },
      "outputs": [],
      "source": [
        "import numpy as np\n",
        "import pandas as pd\n",
        "import matplotlib as mt\n",
        "import matplotlib.pyplot as pt\n",
        "from keras.layers import BatchNormalization\n",
        "from sklearn.preprocessing import MinMaxScaler\n",
        "from sklearn.model_selection import train_test_split\n",
        "from sklearn.decomposition import PCA\n",
        "from sklearn.metrics import confusion_matrix\n",
        "from sklearn import metrics\n",
        "from sklearn.metrics         import accuracy_score\n",
        "from numpy import expand_dims\n",
        "from tensorflow import keras\n",
        "import tensorflow as tf\n",
        "from numpy import zeros\n",
        "from numpy import ones\n",
        "from numpy import asarray\n",
        "from numpy.random import randn\n",
        "from numpy.random import randint\n",
        "\n",
        "import tensorflow as tf\n",
        "from keras.optimizers import Adam\n",
        "import keras\n",
        "from keras import layers as lys\n",
        "from keras import models as mls\n",
        "from keras import initializers\n",
        "from keras.utils import to_categorical as ct\n",
        "import tensorflow as tf\n",
        "from tensorflow.keras import layers, models, initializers, Input\n",
        "from keras.layers import Dense, Embedding, Flatten, Concatenate\n",
        "from keras.layers import LeakyReLU\n",
        "from keras.layers import Dropout\n",
        "from keras.models import Model\n",
        "import io\n",
        "import gdown\n",
        "import scipy.io"
      ]
    },
    {
      "cell_type": "code",
      "execution_count": null,
      "metadata": {
        "colab": {
          "base_uri": "https://localhost:8080/"
        },
        "id": "peMnZW8NxXxF",
        "outputId": "ae49772b-824c-4af0-aebb-cfeb3b64f827"
      },
      "outputs": [
        {
          "output_type": "stream",
          "name": "stderr",
          "text": [
            "Downloading...\n",
            "From: https://drive.google.com/uc?id=1Z_mEDB60-BnoKCEbiYqxKchk4NSgLcKW\n",
            "To: /content/PV_Data.xlsx\n",
            "100%|██████████| 396k/396k [00:00<00:00, 21.7MB/s]\n"
          ]
        }
      ],
      "source": [
        "import gdown\n",
        "\n",
        "# File ID from Google Drive\n",
        "file_id = \"1Z_mEDB60-BnoKCEbiYqxKchk4NSgLcKW\"\n",
        "\n",
        "# Download the file\n",
        "gdown.download(f\"https://drive.google.com/uc?id={file_id}\", \"PV_Data.xlsx\", quiet=False)\n",
        "\n",
        "# Load the Excel file\n",
        "df = pd.read_excel(\"PV_Data.xlsx\")"
      ]
    },
    {
      "cell_type": "code",
      "execution_count": null,
      "metadata": {
        "id": "ZXzyiliIWM6R"
      },
      "outputs": [],
      "source": [
        "\n",
        "np.random.seed(42)\n",
        "data = df.to_numpy()\n",
        "input = data[:, 1:8]\n",
        "output = data[:, 0]\n",
        "output = output - 1\n",
        "\n",
        "from sklearn.preprocessing import MinMaxScaler\n",
        "from sklearn.decomposition import PCA\n",
        "minmax = MinMaxScaler()\n",
        "X =  minmax.fit_transform(input)\n",
        "pca = PCA(n_components=7)\n",
        "pca.fit(X)\n",
        "X= pca.transform(X)\n",
        "Y = output"
      ]
    },
    {
      "cell_type": "code",
      "execution_count": null,
      "metadata": {
        "id": "E3ZBJQyMWNnx"
      },
      "outputs": [],
      "source": [
        "np.random.seed(42)\n",
        "X_train, X_test, y_train, y_test = train_test_split(X, Y, test_size=0.1, random_state=6)\n",
        "print(X_test.shape)\n",
        "print(y_test.shape)\n",
        "print('**********')\n",
        "print(X_train.shape)\n",
        "print(y_train.shape)"
      ]
    },
    {
      "cell_type": "code",
      "execution_count": null,
      "metadata": {
        "id": "xk1MGkrclKG4"
      },
      "outputs": [],
      "source": [
        "import pickle\n",
        "\n",
        "# Ensure X_train, X_test, y_train, y_test exist before saving\n",
        "data = ((X_train, y_train), (X_test, y_test))\n",
        "\n",
        "# Save to a file\n",
        "with open('custom_fashion_mnist.pkl', 'wb') as f:\n",
        "    pickle.dump(data, f)\n",
        "\n",
        "print(\"Dataset saved successfully!\")"
      ]
    },
    {
      "cell_type": "code",
      "execution_count": null,
      "metadata": {
        "id": "5OMeciHIkO1J"
      },
      "outputs": [],
      "source": [
        "def load_PVdata():\n",
        "    with open('custom_fashion_mnist.pkl', 'rb') as f:\n",
        "        data = pickle.load(f)\n",
        "    return data"
      ]
    },
    {
      "cell_type": "code",
      "execution_count": null,
      "metadata": {
        "id": "zAmQbircMGlo"
      },
      "outputs": [],
      "source": [
        "def define_discriminator(in_shape=(7,), n_classes=10):\n",
        "  # image input\n",
        "  in_image = Input(shape=in_shape)\n",
        "  # downsample\n",
        "  fe = Dense(units=180, activation='sigmoid',kernel_initializer=tf.keras.initializers.GlorotNormal(),\n",
        "    bias_initializer=initializers.Zeros())(in_image)\n",
        "  fe = LeakyReLU(negative_slope=0.4)(fe)\n",
        "  # downsample\n",
        "  fe = Dense(units=140, activation='sigmoid',  kernel_initializer=tf.keras.initializers.GlorotNormal(),\n",
        "    bias_initializer=initializers.Zeros())(fe)\n",
        "  fe = LeakyReLU(negative_slope=0.4)(fe)\n",
        "  # downsample\n",
        "  fe = Dense(units=120, activation='sigmoid',  kernel_initializer=tf.keras.initializers.GlorotNormal(),\n",
        "    bias_initializer=initializers.Zeros())(fe)\n",
        "  fe = LeakyReLU(negative_slope=0.4)(fe)\n",
        "  # dropout\n",
        "  fe = Dropout(0.4)(fe)\n",
        "  # unsupervised output\n",
        "  out1 = Dense(1, activation = 'sigmoid')(fe)\n",
        "  # supervised output\n",
        "  out2 = Dense(n_classes, activation='softmax')(fe)\n",
        "  # define and compile supervised discriminator model\n",
        "  model = Model(in_image, [out1, out2])\n",
        "  opt =  optimizer=Adam(learning_rate= keras.optimizers.schedules.ExponentialDecay(initial_learning_rate=0.002,decay_steps=10000,decay_rate=0.9),beta_1=0.5)\n",
        "  model.compile(loss=['binary_crossentropy', 'sparse_categorical_crossentropy'], optimizer = opt)\n",
        "  return model\n",
        "\n",
        "model = define_discriminator()\n",
        "# summarize the model\n",
        "model.summary()"
      ]
    },
    {
      "cell_type": "code",
      "execution_count": null,
      "metadata": {
        "id": "Lm9Jcc1CRuIj"
      },
      "outputs": [],
      "source": [
        "def define_generator(latent_dim = 100, n_outputs=7, n_classes = 10):\n",
        "    in_label = Input(shape=(1,))\n",
        "    li = Embedding(n_classes, 10)(in_label)\n",
        "    li = Flatten()(li)\n",
        "    # Latent space input\n",
        "    in_lat = Input(shape=(latent_dim,))\n",
        "\n",
        "    # Merge latent vector and label embedding\n",
        "    merged = Concatenate()([in_lat, li])\n",
        "\n",
        "    fe = Dense(180, activation='tanh', kernel_initializer=tf.keras.initializers.GlorotNormal(),bias_initializer=initializers.Zeros())(merged)\n",
        "    fe = Dense(100, activation='tanh', kernel_initializer=tf.keras.initializers.GlorotNormal(),bias_initializer=initializers.Zeros())(fe)\n",
        "    out_layer = Dense(n_outputs, activation='relu')(fe)\n",
        "    model = Model([in_lat, in_label], out_layer)\n",
        "    return model\n",
        "\n",
        "model = define_generator()\n",
        "# summarize the model\n",
        "model.summary()"
      ]
    },
    {
      "cell_type": "code",
      "execution_count": null,
      "metadata": {
        "colab": {
          "background_save": true
        },
        "id": "cpbyIt4Hji-6"
      },
      "outputs": [],
      "source": [
        "# example of fitting an auxiliary classifier gan (ac-gan) on fashion mnsit\n",
        "from numpy import zeros\n",
        "from numpy import ones\n",
        "from numpy import expand_dims\n",
        "from numpy.random import randn\n",
        "from numpy.random import randint\n",
        "from keras.datasets.fashion_mnist import load_data\n",
        "from keras.optimizers import Adam\n",
        "from keras.models import Model\n",
        "from keras.layers import Input\n",
        "from keras.layers import Dense\n",
        "from keras.layers import Reshape\n",
        "from keras.layers import Flatten\n",
        "from keras.layers import Conv2D\n",
        "from keras.layers import Conv2DTranspose\n",
        "from keras.layers import LeakyReLU\n",
        "from keras.layers import BatchNormalization\n",
        "from keras.layers import Dropout\n",
        "from keras.layers import Embedding\n",
        "from keras.layers import Activation\n",
        "from keras.layers import Concatenate\n",
        "from keras.initializers import RandomNormal\n",
        "from matplotlib import pyplot\n",
        "\n",
        "\n",
        "# define the combined generator and discriminator model, for updating the generator\n",
        "def define_gan(g_model, d_model):\n",
        "\t# make weights in the discriminator not trainable\n",
        "\t#for layer in d_model.layers:\n",
        "\t#\tif not isinstance(layer, BatchNormalization):\n",
        "\t#\t\tlayer.trainable = False\n",
        "\t# connect the outputs of the generator to the inputs of the discriminator\n",
        "\tgan_output = d_model(g_model.output)\n",
        "\t# define gan model as taking noise and label and outputting real/fake and label outputs\n",
        "\tmodel = Model(g_model.input, gan_output)\n",
        "\t# compile model\n",
        "\topt = Adam(learning_rate=0.0002, beta_1=0.5)\n",
        "\tmodel.compile(loss=['binary_crossentropy', 'sparse_categorical_crossentropy'], optimizer=opt)\n",
        "\treturn model\n",
        "\n",
        "# load images\n",
        "def load_real_samples():\n",
        "\t# load dataset\n",
        "\t(trainX, trainy), (_, _) = load_PVdata()\n",
        "\t# expand to 3d, e.g. add channels\n",
        "\t#X = expand_dims(trainX, axis=-1)\n",
        "\t# convert from ints to floats\n",
        "\t#X = X.astype('float32')\n",
        "\t# scale from [0,255] to [-1,1]\n",
        "\t#X = (X - 127.5) / 127.5\n",
        "\tprint(trainX.shape, trainy.shape)\n",
        "\treturn [trainX, trainy]\n",
        "\n",
        "# select real samples\n",
        "def generate_real_samples(dataset, n_samples):\n",
        "\t# split into images and labels\n",
        "\timages, labels = dataset\n",
        "\t# choose random instances\n",
        "\tix = randint(0, images.shape[0], n_samples)\n",
        "\t# select images and labels\n",
        "\tX, labels = images[ix], labels[ix]\n",
        "\t# generate class labels\n",
        "\ty = ones((n_samples, 1))\n",
        "\treturn [X, labels], y\n",
        "\n",
        "# generate points in latent space as input for the generator\n",
        "def generate_latent_points(latent_dim, n_samples, n_classes=10):\n",
        "\t# generate points in the latent space\n",
        "\tx_input = randn(latent_dim * n_samples)\n",
        "\t# reshape into a batch of inputs for the network\n",
        "\tz_input = x_input.reshape(n_samples, latent_dim)\n",
        "\t# generate labels\n",
        "\tlabels = randint(0, n_classes, n_samples)\n",
        "\treturn [z_input, labels]\n",
        "\n",
        "# use the generator to generate n fake examples, with class labels\n",
        "def generate_fake_samples(generator, latent_dim, n_samples):\n",
        "\t# generate points in latent space\n",
        "\tz_input, labels_input = generate_latent_points(latent_dim, n_samples)\n",
        "\t# predict outputs\n",
        "\timages = generator.predict([z_input, labels_input])\n",
        "\t# create class labels\n",
        "\ty = zeros((n_samples, 1))\n",
        "\treturn [images, labels_input], y\n",
        "\n",
        "# generate samples and save as a plot and save the model\n",
        "def summarize_performance(step, g_model, latent_dim, n_samples=100):\n",
        "\t# prepare fake examples\n",
        "\t[X, _], _ = generate_fake_samples(g_model, latent_dim, n_samples)\n",
        "\t# scale from [-1,1] to [0,1]\n",
        "\t#X = (X + 1) / 2.0\n",
        "\t# plot images\n",
        "\tfor i in range(100):\n",
        "\t\t# define subplot\n",
        "\t\tpyplot.subplot(10, 10, 1 + i)\n",
        "\t\t# turn off axis\n",
        "\t\tpyplot.axis('off')\n",
        "\t\t# plot raw pixel data\n",
        "\t\t#pyplot.imshow(X[i, :, :, 0], cmap='gray_r')\n",
        "\t# save plot to file\n",
        "\tfilename1 = 'generated_plot_%04d.png' % (step+1)\n",
        "\tpyplot.savefig(filename1)\n",
        "\tpyplot.close()\n",
        "\t# save the generator model\n",
        "\tfilename2 = 'model_%04d.h5' % (step+1)\n",
        "\tg_model.save(filename2)\n",
        "\tprint('>Saved: %s and %s' % (filename1, filename2))\n",
        "\n",
        "# train the generator and discriminator\n",
        "def train(g_model, d_model, gan_model, dataset, latent_dim, n_epochs=2200, n_batch=512):\n",
        "\t# calculate the number of batches per training epoch\n",
        "\tbat_per_epo = int(dataset[0].shape[0] / n_batch)\n",
        "\t# calculate the number of training iterations\n",
        "\tn_steps = bat_per_epo * n_epochs\n",
        "\t# calculate the size of half a batch of samples\n",
        "\thalf_batch = int(n_batch / 2)\n",
        "\t# manually enumerate epochs\n",
        "\tfor i in range(n_steps):\n",
        "\t\t# get randomly selected 'real' samples\n",
        "\t\t[X_real, labels_real], y_real = generate_real_samples(dataset, half_batch)\n",
        "\t\t# update discriminator model weights\n",
        "\t\t_,d_r1,d_r2 = d_model.train_on_batch(X_real, [y_real, labels_real])\n",
        "\t\t# generate 'fake' examples\n",
        "\t\t[X_fake, labels_fake], y_fake = generate_fake_samples(g_model, latent_dim, half_batch)\n",
        "\t\t# update discriminator model weights\n",
        "\t\t_,d_f,d_f2 = d_model.train_on_batch(X_fake, [y_fake, labels_fake])\n",
        "\t\t# prepare points in latent space as input for the generator\n",
        "\t\t[z_input, z_labels] = generate_latent_points(latent_dim, n_batch)\n",
        "\t\t# create inverted labels for the fake samples\n",
        "\t\ty_gan = ones((n_batch, 1))\n",
        "\t\t# update the generator via the discriminator's error\n",
        "\t\t_,g_1,g_2 = gan_model.train_on_batch([z_input, z_labels], [y_gan, z_labels])\n",
        "\t\t# summarize loss on this batch\n",
        "\t\tprint('>%d, dr[%.3f,%.3f], df[%.3f,%.3f], g[%.3f,%.3f]' % (i+1, d_r1,d_r2, d_f,d_f2, g_1,g_2))\n",
        "\t\t# evaluate the model performance every 'epoch'\n",
        "\t\tif (i+1) % (bat_per_epo * 10) == 0:\n",
        "\t\t\tsummarize_performance(i, g_model, latent_dim)\n",
        "\n",
        "# size of the latent space\n",
        "latent_dim = 100\n",
        "# create the discriminator\n",
        "discriminator = define_discriminator()\n",
        "# create the generator\n",
        "generator = define_generator(latent_dim)\n",
        "# create the gan\n",
        "gan_model = define_gan(generator, discriminator)\n",
        "# load image data\n",
        "dataset = load_real_samples()\n",
        "# train model\n",
        "train(generator, discriminator, gan_model, dataset, latent_dim)"
      ]
    },
    {
      "cell_type": "code",
      "execution_count": null,
      "metadata": {
        "id": "nHZRGdY72DNs"
      },
      "outputs": [],
      "source": [
        "from matplotlib import pyplot as plt\n",
        "actual =y_test\n",
        "feak_real, y_pred_test= discriminator.predict(X_test)\n",
        "y_pred_test = np.argmax(y_pred_test, axis = 1)\n",
        "confusion_matrix = metrics.confusion_matrix(actual, y_pred_test)\n",
        "cm_display = metrics.ConfusionMatrixDisplay(confusion_matrix = confusion_matrix, display_labels = [0,1,2,3,4,5,6,7,8,9])\n",
        "cm_display.plot()\n",
        "plt.show()\n",
        "confusion_matrix_per_class = confusion_matrix.astype('float') / confusion_matrix.sum(axis=1, keepdims=True) * 100\n",
        "cm_display_per_class = metrics.ConfusionMatrixDisplay(confusion_matrix=confusion_matrix_per_class,display_labels=[0,1,2,3,4,5,6,7,8,9])\n",
        "cm_display_per_class.plot(cmap=\"Blues\", values_format=\".2f\")\n",
        "plt.title(\"Confusion Matrix (Percentage Per Class)\")\n",
        "plt.show()\n",
        "\n",
        "acc_test=accuracy_score(y_test, y_pred_test)\n",
        "print(\"Accuracy Test: \", acc_test*100)"
      ]
    }
  ],
  "metadata": {
    "colab": {
      "provenance": [],
      "include_colab_link": true
    },
    "kernelspec": {
      "display_name": "Python 3",
      "name": "python3"
    },
    "language_info": {
      "name": "python"
    }
  },
  "nbformat": 4,
  "nbformat_minor": 0
}